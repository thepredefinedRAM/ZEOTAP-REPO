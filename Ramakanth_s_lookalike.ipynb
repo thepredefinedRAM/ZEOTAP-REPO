{
 "cells": [
  {
   "cell_type": "code",
   "execution_count": 2,
   "id": "baefc896",
   "metadata": {},
   "outputs": [],
   "source": [
    "import pandas as pd\n",
    "from sklearn.metrics.pairwise import cosine_similarity\n",
    "from sklearn.preprocessing import StandardScaler\n",
    "import numpy as np\n",
    "import matplotlib.pyplot as plt"
   ]
  },
  {
   "cell_type": "code",
   "execution_count": 3,
   "id": "afeb88e5",
   "metadata": {},
   "outputs": [],
   "source": [
    "customers = pd.read_csv(\"D:\\ZEOTAP interview\\Customers.csv\")  \n",
    "products = pd.read_csv(\"D:\\ZEOTAP interview\\Products.csv\")  \n",
    "transactions = pd.read_csv(\"D:\\ZEOTAP interview\\Transactions.csv\")\n"
   ]
  },
  {
   "cell_type": "code",
   "execution_count": 4,
   "id": "00ef99fc",
   "metadata": {},
   "outputs": [],
   "source": [
    "transactions_with_region = pd.merge(transactions, customers, on='CustomerID', how='left')\n",
    "# Add ProductCategory to transactions\n",
    "transactions_with_category = pd.merge(transactions_with_region, products, on='ProductID', how='left')"
   ]
  },
  {
   "cell_type": "code",
   "execution_count": 6,
   "id": "50b3f55b",
   "metadata": {},
   "outputs": [],
   "source": [
    "# Count the number of products purchased by category for each customer\n",
    "customer_data = transactions_with_category.groupby(['CustomerID', 'Region', 'Category']).size().reset_index(name='CategoryCount')"
   ]
  },
  {
   "cell_type": "code",
   "execution_count": 7,
   "id": "e0a23d32",
   "metadata": {},
   "outputs": [],
   "source": [
    "customer_features = pd.get_dummies(customer_data, columns=['Region', 'Category'], prefix=['Region', 'Category'])"
   ]
  },
  {
   "cell_type": "code",
   "execution_count": 8,
   "id": "5d6757d6",
   "metadata": {},
   "outputs": [],
   "source": [
    "customer_features = customer_features.groupby('CustomerID').sum().reset_index()"
   ]
  },
  {
   "cell_type": "code",
   "execution_count": 9,
   "id": "00eb5973",
   "metadata": {},
   "outputs": [],
   "source": [
    "# Step 5: Calculate Similarity\n",
    "# Drop CustomerID column for similarity calculation\n",
    "features = customer_features.drop(columns=['CustomerID'])\n",
    "scaler = StandardScaler()\n",
    "features_scaled = scaler.fit_transform(features)"
   ]
  },
  {
   "cell_type": "code",
   "execution_count": 10,
   "id": "bf518cc4",
   "metadata": {},
   "outputs": [],
   "source": [
    "# Compute cosine similarity\n",
    "similarity_matrix = cosine_similarity(features_scaled)"
   ]
  },
  {
   "cell_type": "code",
   "execution_count": 11,
   "id": "0e858bc3",
   "metadata": {},
   "outputs": [],
   "source": [
    "# Step 6: Generate Top 3 Lookalikes for the First 30 Customers\n",
    "customer_ids = customer_features['CustomerID']\n",
    "lookalike_map = {}"
   ]
  },
  {
   "cell_type": "code",
   "execution_count": 12,
   "id": "9ada6e82",
   "metadata": {},
   "outputs": [],
   "source": [
    "for idx, customer_id in enumerate(customer_ids[:30]):  # Limit to the first 20 customers\n",
    "    # Get similarity scores for the current customer\n",
    "    scores = list(enumerate(similarity_matrix[idx]))\n",
    "    # Sort by similarity score (exclude self)\n",
    "    scores = sorted(scores, key=lambda x: x[1], reverse=True)\n",
    "    top_3 = [(customer_ids[i], round(score, 3)) for i, score in scores if customer_ids[i] != customer_id][:3]\n",
    "    lookalike_map[customer_id] = top_3"
   ]
  },
  {
   "cell_type": "code",
   "execution_count": 13,
   "id": "2817b142",
   "metadata": {},
   "outputs": [
    {
     "name": "stdout",
     "output_type": "stream",
     "text": [
      "Lookalike recommendations saved to Lookalike.csv.\n"
     ]
    }
   ],
   "source": [
    "# Step 7: Save Results to Lookalike.csv\n",
    "lookalike_df = pd.DataFrame([\n",
    "    {'CustomerID': cust_id, 'Lookalikes': lookalikes}\n",
    "    for cust_id, lookalikes in lookalike_map.items()\n",
    "])\n",
    "lookalike_df.to_csv('Lookalike.csv', index=False)\n",
    "\n",
    "print(\"Lookalike recommendations saved to Lookalike.csv.\")"
   ]
  },
  {
   "cell_type": "code",
   "execution_count": 19,
   "id": "38dbf4fa",
   "metadata": {},
   "outputs": [
    {
     "name": "stdout",
     "output_type": "stream",
     "text": [
      "  CustomerID                                        Lookalikes\n",
      "0      C0001        [(C0148, 1.0), (C0152, 1.0), (C0174, 1.0)]\n",
      "1      C0002   [(C0159, 0.99), (C0134, 0.989), (C0133, 0.734)]\n",
      "2      C0003      [(C0031, 1.0), (C0158, 1.0), (C0129, 0.988)]\n",
      "3      C0004  [(C0012, 0.989), (C0001, 0.881), (C0148, 0.881)]\n",
      "4      C0005    [(C0007, 1.0), (C0140, 0.991), (C0095, 0.746)]\n"
     ]
    }
   ],
   "source": [
    "print(lookalike_df.head())"
   ]
  },
  {
   "cell_type": "code",
   "execution_count": 20,
   "id": "33b7cf08",
   "metadata": {},
   "outputs": [],
   "source": [
    "similarity_scores = []\n",
    "for idx in range(len(customer_ids)):\n",
    "    scores = [similarity_matrix[idx][i] for i in range(len(customer_ids)) if i != idx]\n",
    "    similarity_scores.extend(scores)"
   ]
  },
  {
   "cell_type": "code",
   "execution_count": 21,
   "id": "0d5c1a5d",
   "metadata": {},
   "outputs": [
    {
     "name": "stdout",
     "output_type": "stream",
     "text": [
      "Mean similarity score: -0.005\n",
      "Standard deviation of similarity scores: 0.370\n"
     ]
    }
   ],
   "source": [
    "mean_score = np.mean(similarity_scores)\n",
    "std_dev_score = np.std(similarity_scores)\n",
    "print(f\"Mean similarity score: {mean_score:.3f}\")\n",
    "print(f\"Standard deviation of similarity scores: {std_dev_score:.3f}\")"
   ]
  },
  {
   "cell_type": "code",
   "execution_count": null,
   "id": "4444033e",
   "metadata": {},
   "outputs": [],
   "source": [
    "#Mean being close to zero: Similarity scores are evenly distributed around zero, indicating that many pairs are dissimilar.\n",
    "#High standard deviation: There's a large variance in similarity scores, meaning some customers are highly similar, while others are very dissimilar."
   ]
  },
  {
   "cell_type": "code",
   "execution_count": 23,
   "id": "517b6776",
   "metadata": {},
   "outputs": [
    {
     "data": {
      "image/png": "[encoded data removed]",
      "text/plain": [
       "<Figure size 432x288 with 1 Axes>"
      ]
     },
     "metadata": {
      "needs_background": "light"
     },
     "output_type": "display_data"
    }
   ],
   "source": [
    "# histogram  scores\n",
    "plt.hist(similarity_scores, bins=20, edgecolor='k', alpha=0.7)\n",
    "plt.title('Distribution of Similarity Scores')\n",
    "plt.xlabel('Similarity Score')\n",
    "plt.ylabel('Frequency')\n",
    "plt.show()\n"
   ]
  },
  {
   "cell_type": "code",
   "execution_count": null,
   "id": "1207500a",
   "metadata": {},
   "outputs": [],
   "source": [
    "#A wide spread suggests variability in the scores, which can be good if the variability aligns with meaningful customer distinctions."
   ]
  }
 ],
 "metadata": {
  "kernelspec": {
   "display_name": "Python 3 (ipykernel)",
   "language": "python",
   "name": "python3"
  },
  "language_info": {
   "codemirror_mode": {
    "name": "ipython",
    "version": 3
   },
   "file_extension": ".py",
   "mimetype": "text/x-python",
   "name": "python",
   "nbconvert_exporter": "python",
   "pygments_lexer": "ipython3",
   "version": "3.9.12"
  }
 },
 "nbformat": 4,
 "nbformat_minor": 5
}
